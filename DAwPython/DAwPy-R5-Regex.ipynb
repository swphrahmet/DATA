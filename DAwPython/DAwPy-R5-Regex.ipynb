{
 "cells": [
  {
   "cell_type": "code",
   "execution_count": 1,
   "id": "12b11128",
   "metadata": {},
   "outputs": [],
   "source": [
    "#What are regexs?   REs?    Handle text.\n",
    "#  Pandas, Django,  \n",
    "\n",
    "# $grep gREp \n",
    "\n",
    "#What to do:\n",
    "#  substitute values\n",
    "#  find values\n",
    "#  split stuff up\n",
    "#  arrange and group stuff\n",
    "#  arbitrarily complex\n",
    "\n",
    "import re\n",
    "import pandas as pd\n",
    "import numpy as np"
   ]
  },
  {
   "cell_type": "code",
   "execution_count": 2,
   "id": "225500fc",
   "metadata": {},
   "outputs": [
    {
     "data": {
      "text/plain": [
       "<re.Match object; span=(15, 16), match='v'>"
      ]
     },
     "execution_count": 2,
     "metadata": {},
     "output_type": "execute_result"
    }
   ],
   "source": [
    "# reg. expression  'pattern'  -->  string   'target'\n",
    "regex = r'v'   #ignores \\n \\r    or  \\t\n",
    "target = 'Paris is for lovers.'\n",
    "re.search(regex, target)"
   ]
  },
  {
   "cell_type": "code",
   "execution_count": 3,
   "id": "09e90f8f",
   "metadata": {},
   "outputs": [
    {
     "data": {
      "text/plain": [
       "<re.Match object; span=(13, 16), match='lov'>"
      ]
     },
     "execution_count": 3,
     "metadata": {},
     "output_type": "execute_result"
    }
   ],
   "source": [
    "regex = r'lov'\n",
    "re.search(regex, target)"
   ]
  },
  {
   "cell_type": "code",
   "execution_count": 4,
   "id": "76909b79",
   "metadata": {},
   "outputs": [
    {
     "data": {
      "text/plain": [
       "['is', 'is']"
      ]
     },
     "execution_count": 4,
     "metadata": {},
     "output_type": "execute_result"
    }
   ],
   "source": [
    "regex = r'is'\n",
    "re.findall(regex, target)"
   ]
  },
  {
   "cell_type": "code",
   "execution_count": 5,
   "id": "8fef32f4",
   "metadata": {},
   "outputs": [
    {
     "data": {
      "text/plain": [
       "<callable_iterator at 0x219064ccd00>"
      ]
     },
     "execution_count": 5,
     "metadata": {},
     "output_type": "execute_result"
    }
   ],
   "source": [
    "res = re.finditer(regex, target)\n",
    "res"
   ]
  },
  {
   "cell_type": "code",
   "execution_count": 6,
   "id": "ea6847c0",
   "metadata": {},
   "outputs": [
    {
     "name": "stdout",
     "output_type": "stream",
     "text": [
      "<re.Match object; span=(3, 5), match='is'>\n",
      "<re.Match object; span=(6, 8), match='is'>\n"
     ]
    }
   ],
   "source": [
    "for _ in res:\n",
    "    print(_)"
   ]
  },
  {
   "cell_type": "code",
   "execution_count": 7,
   "id": "4a7f9427",
   "metadata": {},
   "outputs": [
    {
     "data": {
      "text/plain": [
       "'ParWAS WAS for lovers.'"
      ]
     },
     "execution_count": 7,
     "metadata": {},
     "output_type": "execute_result"
    }
   ],
   "source": [
    "re.sub(r'is', r'WAS', target )"
   ]
  },
  {
   "cell_type": "code",
   "execution_count": 9,
   "id": "6a26fb26",
   "metadata": {},
   "outputs": [],
   "source": [
    "new_name = re.sub(r'is', r'WAS', target, count=1 )"
   ]
  },
  {
   "cell_type": "code",
   "execution_count": 10,
   "id": "be8c56ca",
   "metadata": {},
   "outputs": [
    {
     "data": {
      "text/plain": [
       "'ParWAS is for lovers.'"
      ]
     },
     "execution_count": 10,
     "metadata": {},
     "output_type": "execute_result"
    }
   ],
   "source": [
    "new_name"
   ]
  },
  {
   "cell_type": "code",
   "execution_count": 11,
   "id": "d0628127",
   "metadata": {},
   "outputs": [
    {
     "data": {
      "text/plain": [
       "['Paris', 'is', 'for', 'lovers.']"
      ]
     },
     "execution_count": 11,
     "metadata": {},
     "output_type": "execute_result"
    }
   ],
   "source": [
    "re.split(' ', target)"
   ]
  },
  {
   "cell_type": "code",
   "execution_count": 12,
   "id": "741e00e4",
   "metadata": {},
   "outputs": [
    {
     "data": {
      "text/plain": [
       "['Par', 's ', 's for lovers.']"
      ]
     },
     "execution_count": 12,
     "metadata": {},
     "output_type": "execute_result"
    }
   ],
   "source": [
    "re.split('i', target)"
   ]
  },
  {
   "cell_type": "code",
   "execution_count": null,
   "id": "7d5ae322",
   "metadata": {},
   "outputs": [],
   "source": [
    "## Shortcuts (aliases) for common things\n",
    "#   \\d   digits 1, 2, 3 ...                        \\D =  ~\\d\n",
    "#   \\s   whitespace - like                         \\S    ~\\s\n",
    "#   \\w   you might find in a word (letter _ !)     \\W    ~\\w\n",
    "#    .   wildcard - find anything"
   ]
  },
  {
   "cell_type": "code",
   "execution_count": 15,
   "id": "773fd5a2",
   "metadata": {},
   "outputs": [],
   "source": [
    "target = r'Easy as 123!'"
   ]
  },
  {
   "cell_type": "code",
   "execution_count": 16,
   "id": "b5948bd3",
   "metadata": {},
   "outputs": [
    {
     "data": {
      "text/plain": [
       "['1', '2', '3']"
      ]
     },
     "execution_count": 16,
     "metadata": {},
     "output_type": "execute_result"
    }
   ],
   "source": [
    "regex = r'\\d'\n",
    "re.findall(regex, target)"
   ]
  },
  {
   "cell_type": "code",
   "execution_count": 17,
   "id": "a0ba4e9d",
   "metadata": {},
   "outputs": [
    {
     "data": {
      "text/plain": [
       "['E', 'a', 's', 'y', ' ', 'a', 's', ' ', '!']"
      ]
     },
     "execution_count": 17,
     "metadata": {},
     "output_type": "execute_result"
    }
   ],
   "source": [
    "regex = r'\\D'\n",
    "re.findall(regex, target)"
   ]
  },
  {
   "cell_type": "code",
   "execution_count": 19,
   "id": "cbc34553",
   "metadata": {},
   "outputs": [
    {
     "data": {
      "text/plain": [
       "<re.Match object; span=(4, 5), match=' '>"
      ]
     },
     "execution_count": 19,
     "metadata": {},
     "output_type": "execute_result"
    }
   ],
   "source": [
    "regex = r'\\s'\n",
    "re.search(regex, target)"
   ]
  },
  {
   "cell_type": "code",
   "execution_count": 20,
   "id": "0c6eb8f3",
   "metadata": {},
   "outputs": [
    {
     "data": {
      "text/plain": [
       "[' ', ' ']"
      ]
     },
     "execution_count": 20,
     "metadata": {},
     "output_type": "execute_result"
    }
   ],
   "source": [
    "re.findall(regex, target)"
   ]
  },
  {
   "cell_type": "code",
   "execution_count": 21,
   "id": "3916670f",
   "metadata": {},
   "outputs": [
    {
     "data": {
      "text/plain": [
       "<re.Match object; span=(0, 1), match='E'>"
      ]
     },
     "execution_count": 21,
     "metadata": {},
     "output_type": "execute_result"
    }
   ],
   "source": [
    "regex = r'\\S'\n",
    "re.search(regex, target)"
   ]
  },
  {
   "cell_type": "code",
   "execution_count": 28,
   "id": "46d818c3",
   "metadata": {},
   "outputs": [
    {
     "data": {
      "text/plain": [
       "['Easy a', 's 123!']"
      ]
     },
     "execution_count": 28,
     "metadata": {},
     "output_type": "execute_result"
    }
   ],
   "source": [
    "regex = r'......'\n",
    "re.findall(regex, target)"
   ]
  },
  {
   "cell_type": "code",
   "execution_count": 29,
   "id": "b0463d7b",
   "metadata": {},
   "outputs": [
    {
     "data": {
      "text/plain": [
       "'Easy as 123!'"
      ]
     },
     "execution_count": 29,
     "metadata": {},
     "output_type": "execute_result"
    }
   ],
   "source": [
    "target"
   ]
  },
  {
   "cell_type": "code",
   "execution_count": 32,
   "id": "3a65515b",
   "metadata": {},
   "outputs": [
    {
     "data": {
      "text/plain": [
       "<re.Match object; span=(8, 10), match='12'>"
      ]
     },
     "execution_count": 32,
     "metadata": {},
     "output_type": "execute_result"
    }
   ],
   "source": [
    "regex = r'\\d\\d'\n",
    "re.search(regex, target)"
   ]
  },
  {
   "cell_type": "code",
   "execution_count": 34,
   "id": "9631e7af",
   "metadata": {},
   "outputs": [
    {
     "data": {
      "text/plain": [
       "<re.Match object; span=(0, 12), match='503-555-1111'>"
      ]
     },
     "execution_count": 34,
     "metadata": {},
     "output_type": "execute_result"
    }
   ],
   "source": [
    "target = phone = '503-555-1111'  # assume +01  old rules  :   second digit = 0 or 1\n",
    "regex = r'\\d[01]\\d-\\d\\d\\d-\\d\\d\\d\\d'\n",
    "re.search(regex, target)"
   ]
  },
  {
   "cell_type": "code",
   "execution_count": 35,
   "id": "267e6914",
   "metadata": {},
   "outputs": [
    {
     "data": {
      "text/plain": [
       "<re.Match object; span=(0, 12), match='503-555-1111'>"
      ]
     },
     "execution_count": 35,
     "metadata": {},
     "output_type": "execute_result"
    }
   ],
   "source": [
    "regex = r'(\\d\\d\\d)-(\\d\\d\\d)-(\\d\\d\\d\\d)'\n",
    "re.search(regex, target)"
   ]
  },
  {
   "cell_type": "code",
   "execution_count": 36,
   "id": "ecd43e3c",
   "metadata": {},
   "outputs": [
    {
     "data": {
      "text/plain": [
       "('503', '555', '1111')"
      ]
     },
     "execution_count": 36,
     "metadata": {},
     "output_type": "execute_result"
    }
   ],
   "source": [
    "re.search(regex, target).groups()"
   ]
  },
  {
   "cell_type": "code",
   "execution_count": null,
   "id": "c997964c",
   "metadata": {},
   "outputs": [],
   "source": [
    "### WHERE to look\n",
    "# ^    at the beginning\n",
    "# $    at the end"
   ]
  },
  {
   "cell_type": "code",
   "execution_count": 37,
   "id": "9ebd8ddf",
   "metadata": {},
   "outputs": [
    {
     "data": {
      "text/plain": [
       "<re.Match object; span=(0, 5), match='Quinn'>"
      ]
     },
     "execution_count": 37,
     "metadata": {},
     "output_type": "execute_result"
    }
   ],
   "source": [
    "target = \"Quinn is a white dog.\"\n",
    "regex = 'Quinn'\n",
    "re.search(regex, target)"
   ]
  },
  {
   "cell_type": "code",
   "execution_count": 40,
   "id": "4c67b3de",
   "metadata": {},
   "outputs": [
    {
     "data": {
      "text/plain": [
       "<re.Match object; span=(0, 5), match='Quinn'>"
      ]
     },
     "execution_count": 40,
     "metadata": {},
     "output_type": "execute_result"
    }
   ],
   "source": [
    "target = \"Quinn\"\n",
    "regex = '^Quinn$'\n",
    "re.search(regex, target)"
   ]
  },
  {
   "cell_type": "code",
   "execution_count": 41,
   "id": "cd99463f",
   "metadata": {},
   "outputs": [],
   "source": [
    "target = \"Quinn the dog\"\n",
    "regex = '^Quinn$'\n",
    "re.search(regex, target)"
   ]
  },
  {
   "cell_type": "code",
   "execution_count": null,
   "id": "eb4bfae7",
   "metadata": {},
   "outputs": [],
   "source": [
    "# HOW MANY?\n",
    "#  *  zero or more  \"Q*\"\n",
    "#  +  one or more   'Q+'    Q   QQQ     QQQQ   \n",
    "# {}  some number {3,}   {3, 6}"
   ]
  },
  {
   "cell_type": "code",
   "execution_count": 44,
   "id": "86999337",
   "metadata": {},
   "outputs": [
    {
     "data": {
      "text/plain": [
       "<re.Match object; span=(24, 35), match='12340000000'>"
      ]
     },
     "execution_count": 44,
     "metadata": {},
     "output_type": "execute_result"
    }
   ],
   "source": [
    "target = r'aaaaabbbbbbbbbcccccccccc12340000000'\n",
    "regex = '(\\d+)'\n",
    "re.search(regex, target)"
   ]
  },
  {
   "cell_type": "code",
   "execution_count": 47,
   "id": "4bd188a0",
   "metadata": {},
   "outputs": [
    {
     "data": {
      "text/plain": [
       "<re.Match object; span=(24, 28), match='1234'>"
      ]
     },
     "execution_count": 47,
     "metadata": {},
     "output_type": "execute_result"
    }
   ],
   "source": [
    "target = r'aaaaabbbbbbbbbcccccccccc12340000000'\n",
    "regex = '\\d{4}'\n",
    "re.search(regex, target)"
   ]
  },
  {
   "cell_type": "code",
   "execution_count": 51,
   "id": "74846f98",
   "metadata": {},
   "outputs": [],
   "source": [
    "target = r'aaaaabbbbbbbbbcccccccccc12340000000'\n",
    "regex = '\\d{1, 11}'\n",
    "re.search(regex, target)"
   ]
  },
  {
   "cell_type": "code",
   "execution_count": 52,
   "id": "038ae34f",
   "metadata": {},
   "outputs": [
    {
     "data": {
      "text/plain": [
       "0     True\n",
       "1     True\n",
       "2     True\n",
       "3    False\n",
       "dtype: bool"
      ]
     },
     "execution_count": 52,
     "metadata": {},
     "output_type": "execute_result"
    }
   ],
   "source": [
    "s = pd.Series(['a3', 'b4', 'c5', 'd'])\n",
    "s.str.contains('\\d')"
   ]
  },
  {
   "cell_type": "code",
   "execution_count": 53,
   "id": "7186e30c",
   "metadata": {},
   "outputs": [
    {
     "data": {
      "text/plain": [
       "0     True\n",
       "1     True\n",
       "2     True\n",
       "3    False\n",
       "dtype: bool"
      ]
     },
     "execution_count": 53,
     "metadata": {},
     "output_type": "execute_result"
    }
   ],
   "source": [
    "s.apply(lambda x : True if re.search(\"\\d\", x) else False)"
   ]
  },
  {
   "cell_type": "code",
   "execution_count": 54,
   "id": "5057e03d",
   "metadata": {},
   "outputs": [
    {
     "data": {
      "text/html": [
       "<div>\n",
       "<style scoped>\n",
       "    .dataframe tbody tr th:only-of-type {\n",
       "        vertical-align: middle;\n",
       "    }\n",
       "\n",
       "    .dataframe tbody tr th {\n",
       "        vertical-align: top;\n",
       "    }\n",
       "\n",
       "    .dataframe thead th {\n",
       "        text-align: right;\n",
       "    }\n",
       "</style>\n",
       "<table border=\"1\" class=\"dataframe\">\n",
       "  <thead>\n",
       "    <tr style=\"text-align: right;\">\n",
       "      <th></th>\n",
       "      <th>0</th>\n",
       "    </tr>\n",
       "  </thead>\n",
       "  <tbody>\n",
       "    <tr>\n",
       "      <th>0</th>\n",
       "      <td>3</td>\n",
       "    </tr>\n",
       "    <tr>\n",
       "      <th>1</th>\n",
       "      <td>4</td>\n",
       "    </tr>\n",
       "    <tr>\n",
       "      <th>2</th>\n",
       "      <td>5</td>\n",
       "    </tr>\n",
       "    <tr>\n",
       "      <th>3</th>\n",
       "      <td>NaN</td>\n",
       "    </tr>\n",
       "  </tbody>\n",
       "</table>\n",
       "</div>"
      ],
      "text/plain": [
       "     0\n",
       "0    3\n",
       "1    4\n",
       "2    5\n",
       "3  NaN"
      ]
     },
     "execution_count": 54,
     "metadata": {},
     "output_type": "execute_result"
    }
   ],
   "source": [
    "s.str.extract('(\\d)')"
   ]
  },
  {
   "cell_type": "code",
   "execution_count": 55,
   "id": "7c9b0d98",
   "metadata": {},
   "outputs": [],
   "source": [
    "phone = \"2004-959-559 # This is Phone Number\"\n",
    "output = re.sub(\"\\D\", \"\", phone)"
   ]
  },
  {
   "cell_type": "code",
   "execution_count": 56,
   "id": "51d13198",
   "metadata": {},
   "outputs": [
    {
     "data": {
      "text/plain": [
       "'2004959559'"
      ]
     },
     "execution_count": 56,
     "metadata": {},
     "output_type": "execute_result"
    }
   ],
   "source": [
    "output"
   ]
  },
  {
   "cell_type": "code",
   "execution_count": 57,
   "id": "14a17051",
   "metadata": {},
   "outputs": [],
   "source": [
    "regex = r'v'  #what we're looking for.  Note the'r'\n",
    "target = r'Paris is for lovers'"
   ]
  },
  {
   "cell_type": "code",
   "execution_count": 58,
   "id": "9f6aeae2",
   "metadata": {},
   "outputs": [
    {
     "data": {
      "text/plain": [
       "<re.Match object; span=(15, 16), match='v'>"
      ]
     },
     "execution_count": 58,
     "metadata": {},
     "output_type": "execute_result"
    }
   ],
   "source": [
    "re.search(regex, target)"
   ]
  },
  {
   "cell_type": "code",
   "execution_count": 59,
   "id": "b74ec91f",
   "metadata": {},
   "outputs": [],
   "source": [
    "compiled = re.compile(regex)"
   ]
  },
  {
   "cell_type": "code",
   "execution_count": 60,
   "id": "63f92a80",
   "metadata": {},
   "outputs": [
    {
     "data": {
      "text/plain": [
       "<re.Match object; span=(15, 16), match='v'>"
      ]
     },
     "execution_count": 60,
     "metadata": {},
     "output_type": "execute_result"
    }
   ],
   "source": [
    "compiled.search(target)"
   ]
  },
  {
   "cell_type": "code",
   "execution_count": null,
   "id": "d29ffc9c",
   "metadata": {},
   "outputs": [],
   "source": [
    "cc = \"1234-5678-1234-5678\"\n",
    "regex = re.compile(r'''(\n",
    "(\\d{4})   #match 4 digits\n",
    "(\\s*|\\-*) #matches either a white space \\s or a dash\n",
    "(\\d{4})\n",
    "(\\s*|\\-*)\n",
    "(\\d{4})\n",
    "\n",
    ")''',re.VERBOSE)"
   ]
  },
  {
   "cell_type": "code",
   "execution_count": 61,
   "id": "55164a39",
   "metadata": {},
   "outputs": [
    {
     "data": {
      "text/plain": [
       "1"
      ]
     },
     "execution_count": 61,
     "metadata": {},
     "output_type": "execute_result"
    }
   ],
   "source": [
    "s = \"1234-5678-1234-5678\"\n",
    "s.find('2')"
   ]
  },
  {
   "cell_type": "code",
   "execution_count": null,
   "id": "8bb6e61a",
   "metadata": {},
   "outputs": [],
   "source": [
    "# Highly recommended:  regex101.com"
   ]
  }
 ],
 "metadata": {
  "kernelspec": {
   "display_name": "Python 3",
   "language": "python",
   "name": "python3"
  },
  "language_info": {
   "codemirror_mode": {
    "name": "ipython",
    "version": 3
   },
   "file_extension": ".py",
   "mimetype": "text/x-python",
   "name": "python",
   "nbconvert_exporter": "python",
   "pygments_lexer": "ipython3",
   "version": "3.8.8"
  }
 },
 "nbformat": 4,
 "nbformat_minor": 5
}
